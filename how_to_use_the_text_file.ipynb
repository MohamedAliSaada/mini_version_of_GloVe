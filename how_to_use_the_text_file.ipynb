{
  "metadata": {
    "kernelspec": {
      "name": "python",
      "display_name": "Python (Pyodide)",
      "language": "python"
    },
    "language_info": {
      "codemirror_mode": {
        "name": "python",
        "version": 3
      },
      "file_extension": ".py",
      "mimetype": "text/x-python",
      "name": "python",
      "nbconvert_exporter": "python",
      "pygments_lexer": "ipython3",
      "version": "3.8"
    }
  },
  "nbformat_minor": 5,
  "nbformat": 4,
  "cells": [
    {
      "id": "d6049e51-2ee7-4ffc-a9ff-fdd752718bba",
      "cell_type": "code",
      "source": "import numpy as np\nembedding_dict = {}\nwith open('glove_custom_4d_4999W.txt','r') as f:\n    for line in f:\n        parts=line.strip().split()\n        token=parts[0]\n        vector=np.array([float(x) for x in parts[1:]],dtype=np.float32)\n        embedding_dict[token] = vector\n\n#similarity\ndef cosine_similarity(vec1, vec2):\n    return np.dot(vec1, vec2) / (np.linalg.norm(vec1) * np.linalg.norm(vec2))\n\nsimilarity = cosine_similarity(embedding_dict['boy'], embedding_dict['girl'])\nprint(f\"Similarity: {similarity:.4f}\")\nsimilarity = cosine_similarity(embedding_dict['man'], embedding_dict['woman'])\nprint(f\"Similarity: {similarity:.4f}\")\nsimilarity = cosine_similarity(embedding_dict['king'], embedding_dict['queen'])\nprint(f\"Similarity: {similarity:.4f}\")\nsimilarity = cosine_similarity(embedding_dict['boy'], embedding_dict['woman'])\nprint(f\"Similarity: {similarity:.4f}\")\nsimilarity = cosine_similarity(embedding_dict['play'], embedding_dict['girl'])\nprint(f\"Similarity: {similarity:.4f}\")",
      "metadata": {
        "trusted": true
      },
      "outputs": [
        {
          "name": "stdout",
          "output_type": "stream",
          "text": "Similarity: 0.9449\nSimilarity: 0.9985\nSimilarity: 0.9143\nSimilarity: 0.9625\nSimilarity: 0.8073\n"
        }
      ],
      "execution_count": 44
    },
    {
      "id": "046199df-af08-4599-88a7-fee46dd862df",
      "cell_type": "code",
      "source": "",
      "metadata": {
        "trusted": true
      },
      "outputs": [],
      "execution_count": null
    },
    {
      "id": "a281e19a-4dd2-4039-b97f-617538046870",
      "cell_type": "code",
      "source": "",
      "metadata": {
        "trusted": true
      },
      "outputs": [],
      "execution_count": null
    }
  ]
}